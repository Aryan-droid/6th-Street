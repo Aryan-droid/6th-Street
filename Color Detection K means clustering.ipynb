{
 "cells": [
  {
   "cell_type": "code",
   "execution_count": 10,
   "id": "3b8ddaee",
   "metadata": {},
   "outputs": [],
   "source": [
    "from collections import Counter\n",
    "from sklearn.cluster import KMeans\n",
    "from matplotlib import colors\n",
    "import matplotlib.pyplot as plt\n",
    "import numpy as np\n",
    "import cv2\n",
    "from PIL import ImageColor\n",
    "from math import sqrt\n",
    "import pandas as pd\n",
    "import urllib"
   ]
  },
  {
   "cell_type": "code",
   "execution_count": 11,
   "id": "c34a6e26",
   "metadata": {},
   "outputs": [],
   "source": [
    "def rgb_to_hex(rgb_color):\n",
    "    hex_color = \"#\"\n",
    "    for i in rgb_color:\n",
    "        i = int(i)\n",
    "        hex_color += (\"{:02x}\".format(i))\n",
    "    return hex_color"
   ]
  },
  {
   "cell_type": "code",
   "execution_count": 12,
   "id": "b9f3f99d",
   "metadata": {},
   "outputs": [],
   "source": [
    "def prep_image(raw_img):\n",
    "    modified_img = cv2.resize(raw_img, (900, 600), interpolation = cv2.INTER_AREA)\n",
    "    modified_img = modified_img.reshape(modified_img.shape[0]*modified_img.shape[1], 3)\n",
    "    return modified_img"
   ]
  },
  {
   "cell_type": "code",
   "execution_count": 25,
   "id": "8b5bcbe8",
   "metadata": {},
   "outputs": [],
   "source": [
    "def color_analysis(img):\n",
    "    clf = KMeans(n_clusters = 2)\n",
    "    color_labels = clf.fit_predict(img)\n",
    "    center_colors = clf.cluster_centers_\n",
    "    counts = Counter(color_labels)\n",
    "    ordered_colors = [center_colors[i] for i in counts.keys()]\n",
    "    hex_colors = [rgb_to_hex(ordered_colors[i]) for i in counts.keys()]\n",
    "    plt.figure(figsize = (12, 8))\n",
    "    #plt.pie(counts.values(), colors = hex_colors,autopct='%1.0f%%')\n",
    "    print(counts.values())\n",
    "    first_color=hex_colors[0]\n",
    "    #plt.savefig(\"color_analysis_report.png\")\n",
    "    print(hex_colors[0])\n",
    "    a=ImageColor.getcolor(first_color, \"RGB\")\n",
    "    print(a)\n",
    "    COLORS = {\n",
    "                (0,0,0):\"black\",(31, 31, 32):\"black\",(119, 119, 121):\"grey\",(172, 162, 170):\"grey\",(255,255,255):\"white\",(245, 245, 220):\"white\",(255, 105, 180):\"pink\",\n",
    "                (255,0,0):\"red\",(139,0,0):\"red\",(139,0,0):\"red\",(252,79,19):\"orange\",(205, 99, 85):\"orange\",\n",
    "                (255,128,0):\"orange\",(254,101,33):\"orange\",(0,0,255):\"blue\",(255,255,0):\"yellow\",\n",
    "                (249,217,94):\"yellow\",(255,166,0):\"yellow\",(193, 136, 53):\"yellow\",\n",
    "                (0,128,0):\"green\",(128,0,128):\"purple\",(199, 143, 119):\"brown\",\n",
    "                (255,165,0):\"yellow\",(255,215,0):\"gold\",(218,112,214):\"purple\",\n",
    "                (255,20,147):\"pink\",(246, 195, 191):\"cream\",(139,69,19):\"brown\",(135,206,250):\"blue\",(1,119,193):\"blue\",(32, 42, 79):\"blue\",\n",
    "                (39,1,188):\"blue\", (85,107,47):\"green\",(64, 109, 148):\"blue\",(34,35,55):\"blackish blue\"\n",
    "\n",
    "                }\n",
    "\n",
    "    def closest_color(rgb):\n",
    "        r, g, b = rgb\n",
    "        color_diffs = []\n",
    "        for color in COLORS.keys():\n",
    "            cr, cg, cb = color\n",
    "            color_diff = sqrt(abs(r - cr)**2 + abs(g - cg)**2 + abs(b - cb)**2)\n",
    "            color_diffs.append((color_diff, color))\n",
    "            d=min(color_diffs)[1]\n",
    "        return d\n",
    "\n",
    "    print(COLORS[closest_color(a)])\n",
    "    text = COLORS[closest_color(a)]\n",
    "    csv1.loc[j, 'Color'] = f\"{text}\"\n",
    "    csv1.to_csv(f'{sheet}', index = False)\n"
   ]
  },
  {
   "cell_type": "code",
   "execution_count": 5,
   "id": "180bc3f5",
   "metadata": {},
   "outputs": [],
   "source": [
    "def crop_img(img, scale=1.0):\n",
    "    center_x, center_y = img.shape[1] / 2, img.shape[0] / 2\n",
    "    width_scaled, height_scaled = img.shape[1] * scale, img.shape[0] * scale\n",
    "    left_x, right_x = center_x - width_scaled / 2, center_x + width_scaled / 2\n",
    "    top_y, bottom_y = center_y - height_scaled / 2, center_y + height_scaled / 2\n",
    "    img_cropped = img[int(top_y):int(bottom_y), int(left_x):int(right_x)]\n",
    "    return img_cropped"
   ]
  },
  {
   "cell_type": "code",
   "execution_count": 26,
   "id": "5c1d07f3",
   "metadata": {},
   "outputs": [
    {
     "name": "stdout",
     "output_type": "stream",
     "text": [
      "https://media.6media.me/media/catalog/product/7/7/77717087321-1.jpg\n",
      "dict_values([397004, 142996])\n",
      "#dadada\n",
      "(218, 218, 218)\n",
      "white\n",
      "https://media.6media.me/media/catalog/product/1/9/199657221-1.jpg\n",
      "dict_values([437381, 102619])\n",
      "#5e5e5e\n",
      "(94, 94, 94)\n",
      "grey\n",
      "https://media.6media.me/media/catalog/product/2/4/244140856-1.jpg\n",
      "dict_values([481167, 58833])\n",
      "#ececec\n",
      "(236, 236, 236)\n",
      "white\n",
      "https://media.6media.me/media/catalog/product/1/9/198844925-1.jpg\n",
      "dict_values([486868, 53132])\n",
      "#f2f2f2\n",
      "(242, 242, 242)\n",
      "white\n",
      "https://media.6media.me/media/catalog/product/3/0/301348351-1.jpg\n",
      "dict_values([413800, 126200])\n",
      "#f6f6f6\n",
      "(246, 246, 246)\n",
      "white\n",
      "https://media.6media.me/media/catalog/product/2/7/279654377-1.jpg\n",
      "dict_values([431208, 108792])\n",
      "#292929\n",
      "(41, 41, 41)\n",
      "black\n",
      "https://media.6media.me/media/catalog/product/2/7/271525697-1.jpg\n",
      "dict_values([413899, 126101])\n",
      "#f6f6f6\n",
      "(246, 246, 246)\n",
      "white\n",
      "https://media.6media.me/media/catalog/product/3/1/316751301-1.jpg\n",
      "dict_values([319744, 220256])\n",
      "#717171\n",
      "(113, 113, 113)\n",
      "grey\n",
      "https://media.6media.me/media/catalog/product/2/4/248262073-1.jpg\n",
      "dict_values([380453, 159547])\n",
      "#f6f6f6\n",
      "(246, 246, 246)\n",
      "white\n",
      "https://media.6media.me/media/catalog/product/2/7/271576859-1.jpg\n",
      "dict_values([422281, 117719])\n",
      "#f4f4f4\n",
      "(244, 244, 244)\n",
      "white\n",
      "https://media.6media.me/media/catalog/product/3/2/324124276-1.jpg\n",
      "dict_values([435683, 104317])\n",
      "#f4f4f4\n",
      "(244, 244, 244)\n",
      "white\n",
      "https://media.6media.me/media/catalog/product/3/0/305145254-1.jpg\n",
      "dict_values([438769, 101231])\n",
      "#f4f4f4\n",
      "(244, 244, 244)\n",
      "white\n",
      "https://media.6media.me/media/catalog/product/2/6/267960861-1.jpg\n",
      "dict_values([427576, 112424])\n",
      "#f4f4f4\n",
      "(244, 244, 244)\n",
      "white\n",
      "https://media.6media.me/media/catalog/product/2/7/279274040-1.jpg\n",
      "dict_values([440110, 99890])\n",
      "#f5f5f5\n",
      "(245, 245, 245)\n",
      "white\n",
      "https://media.6media.me/media/catalog/product/2/4/246621587-1.jpg\n",
      "dict_values([342922, 197078])\n",
      "#222222\n",
      "(34, 34, 34)\n",
      "black\n",
      "https://media.6media.me/media/catalog/product/1/9/199828936-1.jpg\n",
      "dict_values([429374, 110626])\n",
      "#171717\n",
      "(23, 23, 23)\n",
      "black\n",
      "https://media.6media.me/media/catalog/product/2/7/273324681-1.jpg\n",
      "dict_values([408345, 131655])\n",
      "#f3f3f3\n",
      "(243, 243, 243)\n",
      "white\n",
      "https://media.6media.me/media/catalog/product/2/7/273324776-1.jpg\n",
      "dict_values([405700, 134300])\n",
      "#f5f5f5\n",
      "(245, 245, 245)\n",
      "white\n",
      "https://media.6media.me/media/catalog/product/2/7/279250863-1.jpg\n",
      "dict_values([445590, 94410])\n",
      "#f5f5f5\n",
      "(245, 245, 245)\n",
      "white\n",
      "https://media.6media.me/media/catalog/product/2/7/271497892-1.jpg\n",
      "dict_values([405406, 134594])\n",
      "#f5f5f5\n",
      "(245, 245, 245)\n",
      "white\n",
      "https://media.6media.me/media/catalog/product/2/7/271517840-1.jpg\n",
      "dict_values([405334, 134666])\n",
      "#292929\n",
      "(41, 41, 41)\n",
      "black\n",
      "nan\n"
     ]
    },
    {
     "name": "stderr",
     "output_type": "stream",
     "text": [
      "<ipython-input-25-94c67440e8bb>:8: RuntimeWarning: More than 20 figures have been opened. Figures created through the pyplot interface (`matplotlib.pyplot.figure`) are retained until explicitly closed and may consume too much memory. (To control this warning, see the rcParam `figure.max_open_warning`).\n",
      "  plt.figure(figsize = (12, 8))\n"
     ]
    },
    {
     "ename": "ValueError",
     "evalue": "unknown url type: 'nan'",
     "output_type": "error",
     "traceback": [
      "\u001b[1;31m---------------------------------------------------------------------------\u001b[0m",
      "\u001b[1;31mValueError\u001b[0m                                Traceback (most recent call last)",
      "\u001b[1;32m<ipython-input-26-5034e0d0e4f1>\u001b[0m in \u001b[0;36m<module>\u001b[1;34m\u001b[0m\n\u001b[0;32m      5\u001b[0m     \u001b[0ma\u001b[0m \u001b[1;33m=\u001b[0m \u001b[0mcsv1\u001b[0m\u001b[1;33m.\u001b[0m\u001b[0miloc\u001b[0m\u001b[1;33m[\u001b[0m\u001b[0mj\u001b[0m\u001b[1;33m]\u001b[0m\u001b[1;33m[\u001b[0m\u001b[1;36m5\u001b[0m\u001b[1;33m]\u001b[0m\u001b[1;33m\u001b[0m\u001b[1;33m\u001b[0m\u001b[0m\n\u001b[0;32m      6\u001b[0m     \u001b[0mprint\u001b[0m\u001b[1;33m(\u001b[0m\u001b[0ma\u001b[0m\u001b[1;33m)\u001b[0m\u001b[1;33m\u001b[0m\u001b[1;33m\u001b[0m\u001b[0m\n\u001b[1;32m----> 7\u001b[1;33m     \u001b[0mreq\u001b[0m \u001b[1;33m=\u001b[0m \u001b[0murllib\u001b[0m\u001b[1;33m.\u001b[0m\u001b[0mrequest\u001b[0m\u001b[1;33m.\u001b[0m\u001b[0murlopen\u001b[0m\u001b[1;33m(\u001b[0m\u001b[1;34mf'{a}'\u001b[0m\u001b[1;33m)\u001b[0m\u001b[1;33m\u001b[0m\u001b[1;33m\u001b[0m\u001b[0m\n\u001b[0m\u001b[0;32m      8\u001b[0m     \u001b[0marr\u001b[0m \u001b[1;33m=\u001b[0m \u001b[0mnp\u001b[0m\u001b[1;33m.\u001b[0m\u001b[0masarray\u001b[0m\u001b[1;33m(\u001b[0m\u001b[0mbytearray\u001b[0m\u001b[1;33m(\u001b[0m\u001b[0mreq\u001b[0m\u001b[1;33m.\u001b[0m\u001b[0mread\u001b[0m\u001b[1;33m(\u001b[0m\u001b[1;33m)\u001b[0m\u001b[1;33m)\u001b[0m\u001b[1;33m,\u001b[0m \u001b[0mdtype\u001b[0m\u001b[1;33m=\u001b[0m\u001b[0mnp\u001b[0m\u001b[1;33m.\u001b[0m\u001b[0muint8\u001b[0m\u001b[1;33m)\u001b[0m\u001b[1;33m\u001b[0m\u001b[1;33m\u001b[0m\u001b[0m\n\u001b[0;32m      9\u001b[0m     \u001b[0mimg\u001b[0m \u001b[1;33m=\u001b[0m \u001b[0mcv2\u001b[0m\u001b[1;33m.\u001b[0m\u001b[0mimdecode\u001b[0m\u001b[1;33m(\u001b[0m\u001b[0marr\u001b[0m\u001b[1;33m,\u001b[0m \u001b[1;33m-\u001b[0m\u001b[1;36m1\u001b[0m\u001b[1;33m)\u001b[0m\u001b[1;33m\u001b[0m\u001b[1;33m\u001b[0m\u001b[0m\n",
      "\u001b[1;32m~\\anaconda3\\lib\\urllib\\request.py\u001b[0m in \u001b[0;36murlopen\u001b[1;34m(url, data, timeout, cafile, capath, cadefault, context)\u001b[0m\n\u001b[0;32m    220\u001b[0m     \u001b[1;32melse\u001b[0m\u001b[1;33m:\u001b[0m\u001b[1;33m\u001b[0m\u001b[1;33m\u001b[0m\u001b[0m\n\u001b[0;32m    221\u001b[0m         \u001b[0mopener\u001b[0m \u001b[1;33m=\u001b[0m \u001b[0m_opener\u001b[0m\u001b[1;33m\u001b[0m\u001b[1;33m\u001b[0m\u001b[0m\n\u001b[1;32m--> 222\u001b[1;33m     \u001b[1;32mreturn\u001b[0m \u001b[0mopener\u001b[0m\u001b[1;33m.\u001b[0m\u001b[0mopen\u001b[0m\u001b[1;33m(\u001b[0m\u001b[0murl\u001b[0m\u001b[1;33m,\u001b[0m \u001b[0mdata\u001b[0m\u001b[1;33m,\u001b[0m \u001b[0mtimeout\u001b[0m\u001b[1;33m)\u001b[0m\u001b[1;33m\u001b[0m\u001b[1;33m\u001b[0m\u001b[0m\n\u001b[0m\u001b[0;32m    223\u001b[0m \u001b[1;33m\u001b[0m\u001b[0m\n\u001b[0;32m    224\u001b[0m \u001b[1;32mdef\u001b[0m \u001b[0minstall_opener\u001b[0m\u001b[1;33m(\u001b[0m\u001b[0mopener\u001b[0m\u001b[1;33m)\u001b[0m\u001b[1;33m:\u001b[0m\u001b[1;33m\u001b[0m\u001b[1;33m\u001b[0m\u001b[0m\n",
      "\u001b[1;32m~\\anaconda3\\lib\\urllib\\request.py\u001b[0m in \u001b[0;36mopen\u001b[1;34m(self, fullurl, data, timeout)\u001b[0m\n\u001b[0;32m    507\u001b[0m         \u001b[1;31m# accept a URL or a Request object\u001b[0m\u001b[1;33m\u001b[0m\u001b[1;33m\u001b[0m\u001b[1;33m\u001b[0m\u001b[0m\n\u001b[0;32m    508\u001b[0m         \u001b[1;32mif\u001b[0m \u001b[0misinstance\u001b[0m\u001b[1;33m(\u001b[0m\u001b[0mfullurl\u001b[0m\u001b[1;33m,\u001b[0m \u001b[0mstr\u001b[0m\u001b[1;33m)\u001b[0m\u001b[1;33m:\u001b[0m\u001b[1;33m\u001b[0m\u001b[1;33m\u001b[0m\u001b[0m\n\u001b[1;32m--> 509\u001b[1;33m             \u001b[0mreq\u001b[0m \u001b[1;33m=\u001b[0m \u001b[0mRequest\u001b[0m\u001b[1;33m(\u001b[0m\u001b[0mfullurl\u001b[0m\u001b[1;33m,\u001b[0m \u001b[0mdata\u001b[0m\u001b[1;33m)\u001b[0m\u001b[1;33m\u001b[0m\u001b[1;33m\u001b[0m\u001b[0m\n\u001b[0m\u001b[0;32m    510\u001b[0m         \u001b[1;32melse\u001b[0m\u001b[1;33m:\u001b[0m\u001b[1;33m\u001b[0m\u001b[1;33m\u001b[0m\u001b[0m\n\u001b[0;32m    511\u001b[0m             \u001b[0mreq\u001b[0m \u001b[1;33m=\u001b[0m \u001b[0mfullurl\u001b[0m\u001b[1;33m\u001b[0m\u001b[1;33m\u001b[0m\u001b[0m\n",
      "\u001b[1;32m~\\anaconda3\\lib\\urllib\\request.py\u001b[0m in \u001b[0;36m__init__\u001b[1;34m(self, url, data, headers, origin_req_host, unverifiable, method)\u001b[0m\n\u001b[0;32m    326\u001b[0m                  \u001b[0morigin_req_host\u001b[0m\u001b[1;33m=\u001b[0m\u001b[1;32mNone\u001b[0m\u001b[1;33m,\u001b[0m \u001b[0munverifiable\u001b[0m\u001b[1;33m=\u001b[0m\u001b[1;32mFalse\u001b[0m\u001b[1;33m,\u001b[0m\u001b[1;33m\u001b[0m\u001b[1;33m\u001b[0m\u001b[0m\n\u001b[0;32m    327\u001b[0m                  method=None):\n\u001b[1;32m--> 328\u001b[1;33m         \u001b[0mself\u001b[0m\u001b[1;33m.\u001b[0m\u001b[0mfull_url\u001b[0m \u001b[1;33m=\u001b[0m \u001b[0murl\u001b[0m\u001b[1;33m\u001b[0m\u001b[1;33m\u001b[0m\u001b[0m\n\u001b[0m\u001b[0;32m    329\u001b[0m         \u001b[0mself\u001b[0m\u001b[1;33m.\u001b[0m\u001b[0mheaders\u001b[0m \u001b[1;33m=\u001b[0m \u001b[1;33m{\u001b[0m\u001b[1;33m}\u001b[0m\u001b[1;33m\u001b[0m\u001b[1;33m\u001b[0m\u001b[0m\n\u001b[0;32m    330\u001b[0m         \u001b[0mself\u001b[0m\u001b[1;33m.\u001b[0m\u001b[0munredirected_hdrs\u001b[0m \u001b[1;33m=\u001b[0m \u001b[1;33m{\u001b[0m\u001b[1;33m}\u001b[0m\u001b[1;33m\u001b[0m\u001b[1;33m\u001b[0m\u001b[0m\n",
      "\u001b[1;32m~\\anaconda3\\lib\\urllib\\request.py\u001b[0m in \u001b[0;36mfull_url\u001b[1;34m(self, url)\u001b[0m\n\u001b[0;32m    352\u001b[0m         \u001b[0mself\u001b[0m\u001b[1;33m.\u001b[0m\u001b[0m_full_url\u001b[0m \u001b[1;33m=\u001b[0m \u001b[0munwrap\u001b[0m\u001b[1;33m(\u001b[0m\u001b[0murl\u001b[0m\u001b[1;33m)\u001b[0m\u001b[1;33m\u001b[0m\u001b[1;33m\u001b[0m\u001b[0m\n\u001b[0;32m    353\u001b[0m         \u001b[0mself\u001b[0m\u001b[1;33m.\u001b[0m\u001b[0m_full_url\u001b[0m\u001b[1;33m,\u001b[0m \u001b[0mself\u001b[0m\u001b[1;33m.\u001b[0m\u001b[0mfragment\u001b[0m \u001b[1;33m=\u001b[0m \u001b[0m_splittag\u001b[0m\u001b[1;33m(\u001b[0m\u001b[0mself\u001b[0m\u001b[1;33m.\u001b[0m\u001b[0m_full_url\u001b[0m\u001b[1;33m)\u001b[0m\u001b[1;33m\u001b[0m\u001b[1;33m\u001b[0m\u001b[0m\n\u001b[1;32m--> 354\u001b[1;33m         \u001b[0mself\u001b[0m\u001b[1;33m.\u001b[0m\u001b[0m_parse\u001b[0m\u001b[1;33m(\u001b[0m\u001b[1;33m)\u001b[0m\u001b[1;33m\u001b[0m\u001b[1;33m\u001b[0m\u001b[0m\n\u001b[0m\u001b[0;32m    355\u001b[0m \u001b[1;33m\u001b[0m\u001b[0m\n\u001b[0;32m    356\u001b[0m     \u001b[1;33m@\u001b[0m\u001b[0mfull_url\u001b[0m\u001b[1;33m.\u001b[0m\u001b[0mdeleter\u001b[0m\u001b[1;33m\u001b[0m\u001b[1;33m\u001b[0m\u001b[0m\n",
      "\u001b[1;32m~\\anaconda3\\lib\\urllib\\request.py\u001b[0m in \u001b[0;36m_parse\u001b[1;34m(self)\u001b[0m\n\u001b[0;32m    381\u001b[0m         \u001b[0mself\u001b[0m\u001b[1;33m.\u001b[0m\u001b[0mtype\u001b[0m\u001b[1;33m,\u001b[0m \u001b[0mrest\u001b[0m \u001b[1;33m=\u001b[0m \u001b[0m_splittype\u001b[0m\u001b[1;33m(\u001b[0m\u001b[0mself\u001b[0m\u001b[1;33m.\u001b[0m\u001b[0m_full_url\u001b[0m\u001b[1;33m)\u001b[0m\u001b[1;33m\u001b[0m\u001b[1;33m\u001b[0m\u001b[0m\n\u001b[0;32m    382\u001b[0m         \u001b[1;32mif\u001b[0m \u001b[0mself\u001b[0m\u001b[1;33m.\u001b[0m\u001b[0mtype\u001b[0m \u001b[1;32mis\u001b[0m \u001b[1;32mNone\u001b[0m\u001b[1;33m:\u001b[0m\u001b[1;33m\u001b[0m\u001b[1;33m\u001b[0m\u001b[0m\n\u001b[1;32m--> 383\u001b[1;33m             \u001b[1;32mraise\u001b[0m \u001b[0mValueError\u001b[0m\u001b[1;33m(\u001b[0m\u001b[1;34m\"unknown url type: %r\"\u001b[0m \u001b[1;33m%\u001b[0m \u001b[0mself\u001b[0m\u001b[1;33m.\u001b[0m\u001b[0mfull_url\u001b[0m\u001b[1;33m)\u001b[0m\u001b[1;33m\u001b[0m\u001b[1;33m\u001b[0m\u001b[0m\n\u001b[0m\u001b[0;32m    384\u001b[0m         \u001b[0mself\u001b[0m\u001b[1;33m.\u001b[0m\u001b[0mhost\u001b[0m\u001b[1;33m,\u001b[0m \u001b[0mself\u001b[0m\u001b[1;33m.\u001b[0m\u001b[0mselector\u001b[0m \u001b[1;33m=\u001b[0m \u001b[0m_splithost\u001b[0m\u001b[1;33m(\u001b[0m\u001b[0mrest\u001b[0m\u001b[1;33m)\u001b[0m\u001b[1;33m\u001b[0m\u001b[1;33m\u001b[0m\u001b[0m\n\u001b[0;32m    385\u001b[0m         \u001b[1;32mif\u001b[0m \u001b[0mself\u001b[0m\u001b[1;33m.\u001b[0m\u001b[0mhost\u001b[0m\u001b[1;33m:\u001b[0m\u001b[1;33m\u001b[0m\u001b[1;33m\u001b[0m\u001b[0m\n",
      "\u001b[1;31mValueError\u001b[0m: unknown url type: 'nan'"
     ]
    },
    {
     "data": {
      "text/plain": [
       "<Figure size 864x576 with 0 Axes>"
      ]
     },
     "metadata": {},
     "output_type": "display_data"
    },
    {
     "data": {
      "text/plain": [
       "<Figure size 864x576 with 0 Axes>"
      ]
     },
     "metadata": {},
     "output_type": "display_data"
    },
    {
     "data": {
      "text/plain": [
       "<Figure size 864x576 with 0 Axes>"
      ]
     },
     "metadata": {},
     "output_type": "display_data"
    },
    {
     "data": {
      "text/plain": [
       "<Figure size 864x576 with 0 Axes>"
      ]
     },
     "metadata": {},
     "output_type": "display_data"
    },
    {
     "data": {
      "text/plain": [
       "<Figure size 864x576 with 0 Axes>"
      ]
     },
     "metadata": {},
     "output_type": "display_data"
    },
    {
     "data": {
      "text/plain": [
       "<Figure size 864x576 with 0 Axes>"
      ]
     },
     "metadata": {},
     "output_type": "display_data"
    },
    {
     "data": {
      "text/plain": [
       "<Figure size 864x576 with 0 Axes>"
      ]
     },
     "metadata": {},
     "output_type": "display_data"
    },
    {
     "data": {
      "text/plain": [
       "<Figure size 864x576 with 0 Axes>"
      ]
     },
     "metadata": {},
     "output_type": "display_data"
    },
    {
     "data": {
      "text/plain": [
       "<Figure size 864x576 with 0 Axes>"
      ]
     },
     "metadata": {},
     "output_type": "display_data"
    },
    {
     "data": {
      "text/plain": [
       "<Figure size 864x576 with 0 Axes>"
      ]
     },
     "metadata": {},
     "output_type": "display_data"
    },
    {
     "data": {
      "text/plain": [
       "<Figure size 864x576 with 0 Axes>"
      ]
     },
     "metadata": {},
     "output_type": "display_data"
    },
    {
     "data": {
      "text/plain": [
       "<Figure size 864x576 with 0 Axes>"
      ]
     },
     "metadata": {},
     "output_type": "display_data"
    },
    {
     "data": {
      "text/plain": [
       "<Figure size 864x576 with 0 Axes>"
      ]
     },
     "metadata": {},
     "output_type": "display_data"
    },
    {
     "data": {
      "text/plain": [
       "<Figure size 864x576 with 0 Axes>"
      ]
     },
     "metadata": {},
     "output_type": "display_data"
    },
    {
     "data": {
      "text/plain": [
       "<Figure size 864x576 with 0 Axes>"
      ]
     },
     "metadata": {},
     "output_type": "display_data"
    },
    {
     "data": {
      "text/plain": [
       "<Figure size 864x576 with 0 Axes>"
      ]
     },
     "metadata": {},
     "output_type": "display_data"
    },
    {
     "data": {
      "text/plain": [
       "<Figure size 864x576 with 0 Axes>"
      ]
     },
     "metadata": {},
     "output_type": "display_data"
    },
    {
     "data": {
      "text/plain": [
       "<Figure size 864x576 with 0 Axes>"
      ]
     },
     "metadata": {},
     "output_type": "display_data"
    },
    {
     "data": {
      "text/plain": [
       "<Figure size 864x576 with 0 Axes>"
      ]
     },
     "metadata": {},
     "output_type": "display_data"
    },
    {
     "data": {
      "text/plain": [
       "<Figure size 864x576 with 0 Axes>"
      ]
     },
     "metadata": {},
     "output_type": "display_data"
    },
    {
     "data": {
      "text/plain": [
       "<Figure size 864x576 with 0 Axes>"
      ]
     },
     "metadata": {},
     "output_type": "display_data"
    }
   ],
   "source": [
    "sheet = \"Results_Jan.csv\"\n",
    "csv1 = pd.read_csv(f'{sheet}')\n",
    "\n",
    "for j in range (0,csv1.shape[0]):\n",
    "    a = csv1.iloc[j][5]\n",
    "    print(a)\n",
    "    req = urllib.request.urlopen(f'{a}')\n",
    "    arr = np.asarray(bytearray(req.read()), dtype=np.uint8)\n",
    "    img = cv2.imdecode(arr, -1)\n",
    "    gray = cv2.cvtColor(img, cv2.COLOR_BGR2GRAY) \n",
    "            \n",
    "    mask = cv2.threshold(gray, 250, 255, cv2.THRESH_BINARY)[1]\n",
    "\n",
    "            # negate mask\n",
    "    mask = 255 - mask\n",
    "\n",
    "            # apply morphology to remove isolated extraneous noise\n",
    "            # use borderconstant of black since foreground touches the edges\n",
    "    kernel = np.ones((3,3), np.uint8)\n",
    "    mask = cv2.morphologyEx(mask, cv2.MORPH_OPEN, kernel)\n",
    "    mask = cv2.morphologyEx(mask, cv2.MORPH_CLOSE, kernel)\n",
    "\n",
    "            # anti-alias the mask -- blur then stretch\n",
    "            # blur alpha channel\n",
    "    mask = cv2.GaussianBlur(mask, (0,0), sigmaX=2, sigmaY=2, borderType = cv2.BORDER_DEFAULT)\n",
    "\n",
    "            # linear stretch so that 127.5 goes to 0, but 255 stays 255\n",
    "    mask = (2*(mask.astype(np.float32))-255.0).clip(0,255).astype(np.uint8)\n",
    "\n",
    "            # put mask into alpha channel\n",
    "    result = img.copy()\n",
    "    result = cv2.cvtColor(result, cv2.COLOR_BGR2BGRA)\n",
    "    result[:, :, 3] = mask\n",
    "    result = cv2.cvtColor(result, cv2.COLOR_BGR2GRAY)\n",
    "    image = cv2.cvtColor(result, cv2.COLOR_BGR2RGB)\n",
    "    \n",
    "    modified_image = prep_image(image)\n",
    "    color_analysis(modified_image)"
   ]
  },
  {
   "cell_type": "code",
   "execution_count": null,
   "id": "dce72bdb",
   "metadata": {},
   "outputs": [],
   "source": []
  }
 ],
 "metadata": {
  "kernelspec": {
   "display_name": "Python 3",
   "language": "python",
   "name": "python3"
  },
  "language_info": {
   "codemirror_mode": {
    "name": "ipython",
    "version": 3
   },
   "file_extension": ".py",
   "mimetype": "text/x-python",
   "name": "python",
   "nbconvert_exporter": "python",
   "pygments_lexer": "ipython3",
   "version": "3.8.8"
  }
 },
 "nbformat": 4,
 "nbformat_minor": 5
}
